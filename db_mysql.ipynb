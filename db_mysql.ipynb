{
 "cells": [
  {
   "cell_type": "code",
   "execution_count": 8,
   "metadata": {
    "collapsed": true
   },
   "outputs": [],
   "source": [
    "import pymysql"
   ]
  },
  {
   "cell_type": "code",
   "execution_count": 2,
   "metadata": {
    "collapsed": true
   },
   "outputs": [],
   "source": [
    "class db:\n",
    "    \n",
    "    def __init__(self, hostname, port, username, password, databasename):\n",
    "        self.Connection = pymysql.connect(host=hostname, port=port, user=username, password=password, \n",
    "             db=databasename ,charset='utf8mb4' ,cursorclass=pymysql.cursors.DictCursor )\n",
    "        self.cursor = self.Connection.cursor()  \n",
    "\n",
    "    def __del__(self):\n",
    "        self.cursor.close()\n",
    "        self.Connection.close()\n",
    "\n",
    "    def find(self, statement):\n",
    "        self.cursor.execute(statement)\n",
    "        buf = list()\n",
    "        for row in self.cursor.fetchall():\n",
    "            buf.append(row)\n",
    "        return buf\n",
    "\n",
    "    def CURD(self, statement):\n",
    "        try:\n",
    "            # Execute the SQL command\n",
    "            self.cursor.execute(statement)\n",
    "            # Commit your changes in the database\n",
    "            self.Connection.commit()\n",
    "        except:\n",
    "            print(\"Error\" + statement)\n",
    "            # Rollback in case there is any error\n",
    "            self.Connection.rollback() \n",
    "\n",
    "    def CURD_SP(self, statement, title):\n",
    "        try:\n",
    "            # Execute the SQL command\n",
    "            self.cursor.execute(statement,(title))\n",
    "            # Commit your changes in the database\n",
    "            self.Connection.commit()\n",
    "        except pymysql.MySQLError as e:\n",
    "            print(\"Error: \" , e)  \n",
    "            # Rollback in case there is any error\n",
    "            self.Connection.rollback() "
   ]
  }
 ],
 "metadata": {
  "kernelspec": {
   "display_name": "Python 3",
   "language": "python",
   "name": "python3"
  },
  "language_info": {
   "codemirror_mode": {
    "name": "ipython",
    "version": 3
   },
   "file_extension": ".py",
   "mimetype": "text/x-python",
   "name": "python",
   "nbconvert_exporter": "python",
   "pygments_lexer": "ipython3",
   "version": "3.5.3"
  }
 },
 "nbformat": 4,
 "nbformat_minor": 2
}
