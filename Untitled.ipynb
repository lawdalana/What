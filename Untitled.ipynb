{
 "cells": [
  {
   "cell_type": "code",
   "execution_count": 1,
   "metadata": {
    "collapsed": true
   },
   "outputs": [],
   "source": [
    "import csv"
   ]
  },
  {
   "cell_type": "code",
   "execution_count": 6,
   "metadata": {},
   "outputs": [],
   "source": [
    "data = list()\n",
    "with open(\"story_header_m04.csv\",\"r+\",encoding=\"utf8\") as Test:\n",
    "    reader = csv.reader(Test)\n",
    "    for row in reader:\n",
    "        data.append(row)"
   ]
  },
  {
   "cell_type": "code",
   "execution_count": 10,
   "metadata": {},
   "outputs": [
    {
     "name": "stdout",
     "output_type": "stream",
     "text": [
      "['1615217', \"BJIN.i'm sorry ft.jundong bobyun\", 'hanbinjinhwan', '1', '26', '2', 'H:ฉะ ฉัน ขอโทษ\\nJ: ปล่อยฉันไปเถอะ\\n', 'Bjin.jundong.bobyun', '0', '1', '175', '0', '0', '0', '0', '0', '123758837', '5', '2017-04-06 01:52:04', '4', '8', '6107951', 'hanbinjinhwan', '0', '1', 'N', '0', '20', 'ikonnic78@gmail.com', '0', 'Y', '0', '2017-04-02', '0', '0', '0', '', '0', '0', '1', '', '', '0', '0', '0']\n"
     ]
    }
   ],
   "source": [
    "print(data[1])"
   ]
  }
 ],
 "metadata": {
  "kernelspec": {
   "display_name": "Python 3",
   "language": "python",
   "name": "python3"
  },
  "language_info": {
   "codemirror_mode": {
    "name": "ipython",
    "version": 3
   },
   "file_extension": ".py",
   "mimetype": "text/x-python",
   "name": "python",
   "nbconvert_exporter": "python",
   "pygments_lexer": "ipython3",
   "version": "3.5.3"
  }
 },
 "nbformat": 4,
 "nbformat_minor": 2
}
