{
 "cells": [
  {
   "cell_type": "code",
   "execution_count": 30,
   "metadata": {},
   "outputs": [],
   "source": [
    "from sklearn.neighbors import KNeighborsClassifier\n",
    "from sklearn.neighbors import NearestNeighbors\n",
    "from sklearn.cluster import KMeans\n",
    "import numpy as np"
   ]
  },
  {
   "cell_type": "code",
   "execution_count": 47,
   "metadata": {},
   "outputs": [],
   "source": [
    "data = list()\n",
    "novelid = list()\n",
    "label = list()\n",
    "with open(\"C:/Data/train.csv\",\"r+\") as test:\n",
    "    for i in test:\n",
    "        i = i.replace(\"\\n\",\"\")\n",
    "        buf = i.split(\",\")\n",
    "        novelid.append(buf[0])\n",
    "        label.append(buf[-1])\n",
    "        data.append(buf[1:9])"
   ]
  },
  {
   "cell_type": "code",
   "execution_count": 55,
   "metadata": {},
   "outputs": [],
   "source": [
    "#### KMean#######\n",
    "train_data = np.asarray(data)\n",
    "kmeans = KMeans(n_clusters=2, max_iter=10000 ,random_state=0).fit(train_data)\n",
    "result = kmeans.labels_\n",
    "result = result.tolist()"
   ]
  },
  {
   "cell_type": "code",
   "execution_count": 74,
   "metadata": {},
   "outputs": [
    {
     "name": "stdout",
     "output_type": "stream",
     "text": [
      "1633274,1,12,42821,373121,35,3562,6804,15467,0,1\n",
      "\n",
      "1615989,1,12,31810,303984,29,3509,6245,12117,0,1\n",
      "\n",
      "1615959,1,3,47016,303922,51,1936,3131,3983,0,1\n",
      "\n",
      "1615555,1,3,8600,196622,58,482,832,3122,0,1\n",
      "\n",
      "1622654,1,12,27014,174899,21,2205,3916,11189,0,1\n",
      "\n"
     ]
    }
   ],
   "source": [
    "result_data = list()\n",
    "for i in range(0,len(result)):\n",
    "    if(result[i]==1):\n",
    "        body = \",\".join(data[i])\n",
    "        buf = str(novelid[i])+\",\"+ str(body)+\",\"+str(label[i])+\",\"+str(result[i])+\"\\n\"\n",
    "        result_data.append(buf)\n",
    "\n",
    "for j in range(0,len(result_data)):\n",
    "    result_data[j].replace(\"\\n\",\"\")\n",
    "    buf = result_data[j].split(\",\")\n",
    "    if(buf[9]==\"0\"):\n",
    "        print(result_data[j])"
   ]
  },
  {
   "cell_type": "code",
   "execution_count": 56,
   "metadata": {},
   "outputs": [
    {
     "name": "stdout",
     "output_type": "stream",
     "text": [
      "4160\n",
      "68\n"
     ]
    }
   ],
   "source": [
    "def find():\n",
    "    "
   ]
  },
  {
   "cell_type": "code",
   "execution_count": 34,
   "metadata": {},
   "outputs": [
    {
     "data": {
      "text/plain": [
       "4228"
      ]
     },
     "execution_count": 34,
     "metadata": {},
     "output_type": "execute_result"
    }
   ],
   "source": [
    "with open(\"C:/Data/Result.csv\",\"w+\") as test:\n",
    "    for i in range(0,len(result)):\n",
    "        if(result[i]==1):\n",
    "            body = \",\".join(data[i])\n",
    "            buf = str(novelid[i])+\",\"+ str(body)+\"\\n\""
   ]
  },
  {
   "cell_type": "code",
   "execution_count": 29,
   "metadata": {},
   "outputs": [
    {
     "data": {
      "text/plain": [
       "array([[ 1.,  0.,  0., ...,  0.,  0.,  0.],\n",
       "       [ 0.,  1.,  1., ...,  0.,  0.,  0.],\n",
       "       [ 0.,  1.,  1., ...,  0.,  0.,  0.],\n",
       "       ..., \n",
       "       [ 0.,  0.,  0., ...,  1.,  0.,  0.],\n",
       "       [ 0.,  0.,  0., ...,  0.,  1.,  0.],\n",
       "       [ 0.,  0.,  0., ...,  0.,  0.,  1.]])"
      ]
     },
     "execution_count": 29,
     "metadata": {},
     "output_type": "execute_result"
    }
   ],
   "source": [
    "####  KNN  #####\n",
    "neigh = NearestNeighbors(n_neighbors=2)\n",
    "neigh.fit(data)\n",
    "A = neigh.kneighbors_graph(data)\n",
    "A.toarray()"
   ]
  },
  {
   "cell_type": "code",
   "execution_count": 18,
   "metadata": {},
   "outputs": [
    {
     "ename": "TypeError",
     "evalue": "fit() missing 1 required positional argument: 'y'",
     "output_type": "error",
     "traceback": [
      "\u001b[1;31m---------------------------------------------------------------------------\u001b[0m",
      "\u001b[1;31mTypeError\u001b[0m                                 Traceback (most recent call last)",
      "\u001b[1;32m<ipython-input-18-f66bcf48ff57>\u001b[0m in \u001b[0;36m<module>\u001b[1;34m()\u001b[0m\n\u001b[0;32m      1\u001b[0m \u001b[0mneigh\u001b[0m \u001b[1;33m=\u001b[0m \u001b[0mKNeighborsClassifier\u001b[0m\u001b[1;33m(\u001b[0m\u001b[0mn_neighbors\u001b[0m\u001b[1;33m=\u001b[0m\u001b[1;36m1\u001b[0m\u001b[1;33m)\u001b[0m\u001b[1;33m\u001b[0m\u001b[0m\n\u001b[1;32m----> 2\u001b[1;33m \u001b[0mneigh\u001b[0m\u001b[1;33m.\u001b[0m\u001b[0mfit\u001b[0m\u001b[1;33m(\u001b[0m\u001b[0mdata\u001b[0m\u001b[1;33m)\u001b[0m\u001b[1;33m\u001b[0m\u001b[0m\n\u001b[0m",
      "\u001b[1;31mTypeError\u001b[0m: fit() missing 1 required positional argument: 'y'"
     ]
    }
   ],
   "source": [
    "neigh = KNeighborsClassifier(n_neighbors=2)\n",
    "neigh.fit(data) "
   ]
  },
  {
   "cell_type": "code",
   "execution_count": 13,
   "metadata": {},
   "outputs": [
    {
     "name": "stdout",
     "output_type": "stream",
     "text": [
      "4\n",
      "1\n",
      "1\n"
     ]
    }
   ],
   "source": [
    "for i in range(10):\n",
    "    "
   ]
  },
  {
   "cell_type": "code",
   "execution_count": 8,
   "metadata": {},
   "outputs": [
    {
     "name": "stdout",
     "output_type": "stream",
     "text": [
      "Test\n",
      "\n",
      "Hello\n",
      "\n",
      "World\n"
     ]
    }
   ],
   "source": []
  }
 ],
 "metadata": {
  "kernelspec": {
   "display_name": "Python 3",
   "language": "python",
   "name": "python3"
  },
  "language_info": {
   "codemirror_mode": {
    "name": "ipython",
    "version": 3
   },
   "file_extension": ".py",
   "mimetype": "text/x-python",
   "name": "python",
   "nbconvert_exporter": "python",
   "pygments_lexer": "ipython3",
   "version": "3.5.3"
  }
 },
 "nbformat": 4,
 "nbformat_minor": 2
}
