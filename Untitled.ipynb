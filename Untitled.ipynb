{
 "cells": [
  {
   "cell_type": "code",
   "execution_count": 1,
   "metadata": {
    "collapsed": true
   },
   "outputs": [],
   "source": [
    "from optparse import OptionParser"
   ]
  },
  {
   "cell_type": "code",
   "execution_count": 6,
   "metadata": {
    "collapsed": true
   },
   "outputs": [],
   "source": [
    "def main():\n",
    "    parser = OptionParser(usage=\"usage: %prog [options] filename\",\n",
    "                          version=\"%prog 1.0\")\n",
    "    parser.add_option(\"-x\", \"--xhtml\",\n",
    "                      action=\"store_true\",\n",
    "                      dest=\"xhtml_flag\",\n",
    "                      default=False,\n",
    "                      help=\"create a XHTML template instead of HTML\")\n",
    "    parser.add_option(\"-c\", \"--cssfile\",\n",
    "                      action=\"store\", # optional because action defaults to \"store\"\n",
    "                      dest=\"cssfile\",\n",
    "                      default=\"style.css\",\n",
    "                      help=\"CSS file to link\",)\n",
    "    (options, args) = parser.parse_args()\n",
    "\n",
    "    if len(args) != 1:\n",
    "        parser.error(\"wrong number of arguments\")\n",
    "\n",
    "    print options\n",
    "    print args"
   ]
  },
  {
   "cell_type": "code",
   "execution_count": 3,
   "metadata": {},
   "outputs": [
    {
     "name": "stdout",
     "output_type": "stream",
     "text": [
      "8\n",
      "2\n"
     ]
    }
   ],
   "source": [
    "a = [2,3,4,5,6,7,8]\n",
    "print(max(a))\n",
    "print(min(a))"
   ]
  },
  {
   "cell_type": "code",
   "execution_count": 19,
   "metadata": {
    "collapsed": true
   },
   "outputs": [],
   "source": [
    "\n",
    "# coding: utf-8\n",
    "\n",
    "# In[1]:\n",
    "\n",
    "import tweepy\n",
    "from tweepy import OAuthHandler\n",
    "import codecs\n",
    "from time import time, sleep\n",
    "import json\n",
    "\n",
    "# In[2]:\n",
    "\n",
    "consumer_key = 'jmCRzWWRZjuhNo5Q2gHUXpOGd'\n",
    "consumer_secret = '1wxvlRAjjRcP9TIuE2wnI7LlJ32pkxEc21wMkghMULNLCtKUyD'\n",
    "access_token = '794344198312849408-vknnh03URiVLo4ijoNGYxYN7ZAmjYxB'\n",
    "access_secret = 'PxWES0uBWpw7EcEv7IhG18kWn9yB8Kqsmwn6GbfwMRhrH'\n",
    "\n",
    "\n",
    "# In[3]:\n",
    "class StdOutListener(tweepy.StreamListener):\n",
    "\n",
    "    def on_data(self, data):\n",
    "        print(data)\n",
    "        return True\n",
    "\n",
    "    def on_error(self, status):\n",
    "        print(status)\n",
    "\n",
    "if __name__ == '__main__':\n",
    "\n",
    "    #This handles Twitter authetification and the connection to Twitter Streaming API\n",
    "    l = StdOutListener()\n",
    "    auth = OAuthHandler(consumer_key, consumer_secret)\n",
    "    auth.set_access_token(access_token, access_secret)\n",
    "    stream = tweepy.Stream(auth, l)\n",
    "    # dic = list()\n",
    "    # with open(\"dict_twitter\",\"r+\",encoding=\"utf8\") as test:\n",
    "\n",
    "\n",
    "\n",
    "    #This line filter Twitter Streams to capture data by the keywords: 'python', 'javascript', 'ruby'\n",
    "    # stream.filter(track=dic, async=True)\n",
    "    stream.filter(track=['ดี'], async=True)"
   ]
  }
 ],
 "metadata": {
  "kernelspec": {
   "display_name": "Python 3",
   "language": "python",
   "name": "python3"
  },
  "language_info": {
   "codemirror_mode": {
    "name": "ipython",
    "version": 3
   },
   "file_extension": ".py",
   "mimetype": "text/x-python",
   "name": "python",
   "nbconvert_exporter": "python",
   "pygments_lexer": "ipython3",
   "version": "3.5.3"
  }
 },
 "nbformat": 4,
 "nbformat_minor": 2
}
