{
 "cells": [
  {
   "cell_type": "code",
   "execution_count": 1,
   "metadata": {},
   "outputs": [],
   "source": [
    "from sklearn.neighbors import KNeighborsClassifier\n",
    "from sklearn.neighbors import NearestNeighbors\n",
    "from sklearn.cluster import KMeans\n",
    "import numpy as np"
   ]
  },
  {
   "cell_type": "code",
   "execution_count": 2,
   "metadata": {},
   "outputs": [],
   "source": [
    "## Read file ####\n",
    "novelid = list()\n",
    "data = list()\n",
    "label = list()\n",
    "with open(\"C:/Data/train.csv\",\"r+\") as test:\n",
    "    for i in test:\n",
    "        i = i.replace(\"\\n\",\"\")\n",
    "        buf = i.split(\",\")\n",
    "        novelid.append(buf[0])\n",
    "        label.append(buf[-1])\n",
    "        data.append(buf[1:9])"
   ]
  },
  {
   "cell_type": "code",
   "execution_count": 3,
   "metadata": {},
   "outputs": [],
   "source": [
    "# asd = np.array([1,2,3])\n",
    "# print(asd)\n",
    "# asd[0], asd[1] = asd[1], asd[0]\n",
    "# print(asd)"
   ]
  },
  {
   "cell_type": "code",
   "execution_count": 55,
   "metadata": {},
   "outputs": [],
   "source": [
    "#### Function #####\n",
    "def sort():\n",
    "    global Result_value\n",
    "    global novelid\n",
    "    global data\n",
    "    global label\n",
    "    global train_data\n",
    "    for x in range(len(Result_value)):\n",
    "        for y in range(len(Result_value)):\n",
    "            if(Result_value[x]>Result_value[y]):\n",
    "                Result_value[x], Result_value[y] = Result_value[y],Result_value[x]\n",
    "                novelid[x], novelid[y] = novelid[y], novelid[x]\n",
    "                data[x], data[y] = data[y], data[x]\n",
    "                label[x], label[y] = label[y], label[x]\n",
    "                train_data[x], train_data[y] = train_data[y], train_data[x] \n",
    "                \n",
    "def process(predict, cls):\n",
    "    global final\n",
    "    global final_all\n",
    "    global Result_value\n",
    "    \n",
    "    if not Result_value:\n",
    "        for k in range(cls):\n",
    "            count = 0\n",
    "            count_pls = 0\n",
    "            for loop in range(len(predict)):\n",
    "                if(predict[loop]==k):\n",
    "                    count = count + 1\n",
    "                    if(label[loop]==\"1\"):\n",
    "                        count_pls = count_pls + 1\n",
    "            final.append(count_pls)\n",
    "            final_all.append(count)\n",
    "        for k in range(len(predict)):\n",
    "            Result_value.append((float(final[predict[k]])/float(final_all[predict[k]]))/float(cls))\n",
    "        \n",
    "        final = list()\n",
    "        final_all = list()\n",
    "    else:\n",
    "        for k in range(cls):\n",
    "            count = 0\n",
    "            count_pls = 0\n",
    "            for loop in range(len(predict)):\n",
    "                if(predict[loop]==k):\n",
    "                    count = count + 1\n",
    "                    if(label[loop]==\"1\"):\n",
    "                        count_pls = count_pls + 1\n",
    "            final.append(count_pls)\n",
    "            final_all.append(count)\n",
    "            \n",
    "        for k in range(len(predict)):\n",
    "            val = (float(final[predict[k]])/float(final_all[predict[k]]))/float(cls)\n",
    "            if(val>Result_value[k]):\n",
    "                Result_value[k] = val\n",
    "        final = list()\n",
    "        final_all = list()\n",
    "        "
   ]
  },
  {
   "cell_type": "code",
   "execution_count": 56,
   "metadata": {},
   "outputs": [
    {
     "name": "stdout",
     "output_type": "stream",
     "text": [
      "Loop = 2\n",
      "Loop = 3\n",
      "Loop = 4\n",
      "Loop = 5\n",
      "Loop = 6\n",
      "Loop = 7\n",
      "Loop = 8\n",
      "Loop = 9\n",
      "Loop = 10\n"
     ]
    }
   ],
   "source": [
    "final = list()\n",
    "final_all = list()\n",
    "Result_value = list()\n",
    "sep = list()\n",
    "train_data = np.asarray(data)\n",
    "for i in range(2,11):\n",
    "    kmeans = KMeans(n_clusters=i, max_iter=1000 ,random_state=0).fit(train_data)\n",
    "    result = kmeans.labels_\n",
    "    result = result.tolist()\n",
    "\n",
    "    process(result, i)\n",
    "    sort()\n",
    "    print(\"Loop = \" + str(i))\n",
    "with open(\"C:/Data/Result.csv\",\"a+\") as test:\n",
    "    for i in range(0,len(Result_value)):\n",
    "        if(label[i]==\"0\"):\n",
    "            body = \",\".join(data[i])\n",
    "            buf = str(novelid[i])+\",\"+ str(body)+\",\"+str(Result_value[i])+\"\\n\"\n",
    "            test.write(buf)"
   ]
  },
  {
   "cell_type": "markdown",
   "metadata": {},
   "source": [
    "#### KMean#######\n",
    "train_data = np.asarray(data)\n",
    "kmeans = KMeans(n_clusters=2, max_iter=1000 ,random_state=0).fit(train_data)\n",
    "result = kmeans.labels_\n",
    "result = result.tolist()"
   ]
  },
  {
   "cell_type": "markdown",
   "metadata": {},
   "source": [
    "result_data = list()\n",
    "for i in range(0,len(result)):\n",
    "    if(result[i]==1):\n",
    "        body = \",\".join(data[i])\n",
    "        buf = str(novelid[i])+\",\"+ str(body)+\",\"+str(label[i])+\",\"+str(result[i])+\"\\n\"\n",
    "        result_data.append(buf)\n",
    "\n",
    "for j in range(0,len(result_data)):\n",
    "    result_data[j].replace(\"\\n\",\"\")\n",
    "    buf = result_data[j].split(\",\")\n",
    "    if(buf[9]==\"0\"):\n",
    "        index = novelid.index(buf[0])\n",
    "        novelid.remove(index)\n",
    "        label.remove(index)\n",
    "        data.remove(index)\n",
    "        train_data.remove(index)\n",
    "        \n",
    "        \n",
    "        print(result_data[j])\n",
    "    result_data = list()\n",
    "    for j in range(0,i):\n",
    "        if(result[i]==1):\n",
    "            body = \",\".join(data[i])\n",
    "            buf = str(novelid[i])+\",\"+ str(body)+\",\"+str(label[i])+\",\"+str(result[i])+\"\\n\"\n",
    "            result_data.append(buf)\n",
    "\n",
    "    for j in range(0,len(result_data)):\n",
    "        result_data[j].replace(\"\\n\",\"\")\n",
    "        buf = result_data[j].split(\",\")"
   ]
  },
  {
   "cell_type": "markdown",
   "metadata": {},
   "source": [
    "####  KNN  #####\n",
    "# neigh = NearestNeighbors(n_neighbors=2)\n",
    "# neigh.fit(data)\n",
    "# A = neigh.kneighbors_graph(data)\n",
    "# A.toarray()"
   ]
  }
 ],
 "metadata": {
  "kernelspec": {
   "display_name": "Python 3",
   "language": "python",
   "name": "python3"
  },
  "language_info": {
   "codemirror_mode": {
    "name": "ipython",
    "version": 3
   },
   "file_extension": ".py",
   "mimetype": "text/x-python",
   "name": "python",
   "nbconvert_exporter": "python",
   "pygments_lexer": "ipython3",
   "version": "3.5.3"
  }
 },
 "nbformat": 4,
 "nbformat_minor": 2
}
