{
 "cells": [
  {
   "cell_type": "code",
   "execution_count": 43,
   "metadata": {},
   "outputs": [],
   "source": [
    "from sklearn.neighbors import KNeighborsClassifier\n",
    "from sklearn.neighbors import NearestNeighbors\n",
    "from sklearn.cluster import KMeans\n",
    "import numpy as np\n",
    "import sys\n",
    "import os.path\n",
    "from db_class import db"
   ]
  },
  {
   "cell_type": "code",
   "execution_count": null,
   "metadata": {
    "collapsed": true
   },
   "outputs": [],
   "source": [
    "# Check Args ##\n",
    "try:\n",
    "    Args = sys.argv\n",
    "    if(len(Args)!=3):\n",
    "        raise EnvironmentError\n",
    "except:\n",
    "    print(\"Error !!\")\n",
    "    print(\"Plese add 2 arguments {file:Story_header} {file:Story_header_seller}\\n\")\n",
    "    exit()"
   ]
  },
  {
   "cell_type": "code",
   "execution_count": 28,
   "metadata": {},
   "outputs": [],
   "source": [
    "#### Read file ####\n",
    "novel_header = list()\n",
    "data = list()\n",
    "label = list()\n",
    "Group_filter = [\"26\",\"27\",\"28\",\"29\",\"30\",\"19\"]\n",
    "index = 0\n",
    "with open(\"story_header_real.csv\",\"r+\",encoding=\"utf8\") as test:\n",
    "    check = \"\"\n",
    "    for i in test:\n",
    "        i = i.replace(\"\\n\",\"\")\n",
    "        check = check + i\n",
    "        buf = check.split(',')\n",
    "        if(len(buf)>=19):\n",
    "            check = \"\"\n",
    "            if(not buf[2] in Group_filter):\n",
    "                for j in range(len(buf)):\n",
    "                    buf[j] = buf[j][1:-1]\n",
    "                novel_header.append(buf[0:-4])\n",
    "                data.append(buf[-4:])\n",
    "                label.append(0)\n",
    "    del novel_header[0]\n",
    "    del data[0]\n",
    "    del label[0]\n",
    "\n",
    "with open(\"story_header_sell.csv\",\"r+\",encoding=\"utf8\") as test:\n",
    "    index = len(novel_header)\n",
    "    for i in test:\n",
    "        i = i.replace(\"\\n\",\"\")\n",
    "        buf = i.split(',')\n",
    "        for j in range(len(buf)):\n",
    "            buf[j] = buf[j][1:-1]\n",
    "        novel_header.append(buf[0])\n",
    "        data.append(buf[1:])\n",
    "        label.append(1)\n",
    "    del novel_header[index]\n",
    "    del data[index]\n",
    "    del label[index]"
   ]
  },
  {
   "cell_type": "code",
   "execution_count": 33,
   "metadata": {
    "collapsed": true
   },
   "outputs": [],
   "source": [
    "#########################################################\n",
    "################# Bubble sort ###########################\n",
    "#########################################################\n",
    "def sort():\n",
    "    global Result_value\n",
    "    global novel_header\n",
    "    global data\n",
    "    for x in range(len(Result_value)):\n",
    "        for y in range(len(Result_value)):\n",
    "            if(Result_value_all[x]>Result_value_all[y]):\n",
    "                Result_value_all[x], Result_value_all[y] = Result_value_all[y],Result_value_all[x]\n",
    "                novel_header[x], novel_header[y] = novel_header[y], novel_header[x]\n",
    "                data[x], data[y] = data[y], data[x]\n",
    "                label[x], label[y] = label[y], label[x]"
   ]
  },
  {
   "cell_type": "code",
   "execution_count": 32,
   "metadata": {
    "collapsed": true
   },
   "outputs": [],
   "source": [
    "#########################################################\n",
    "################# function ##############################\n",
    "#########################################################\n",
    "def process(predict, cls):\n",
    "    global final\n",
    "    global final_all\n",
    "    global Result_value\n",
    "    global Result_value_all\n",
    "    \n",
    "    if not Result_value_all:\n",
    "        for k in range(cls):\n",
    "            count = 0\n",
    "            count_pls = 0\n",
    "            for loop in range(len(predict)):\n",
    "                if(predict[loop]==k):\n",
    "                    count = count + 1\n",
    "                    if(label[loop]==1):\n",
    "                        count_pls = count_pls + 1\n",
    "            final.append(count_pls)\n",
    "            final_all.append(count)\n",
    "            buffer = list()\n",
    "        for k in range(len(predict)):\n",
    "            val = (float(final[predict[k]])/float(final_all[predict[k]]))*(1-(float(final_all[predict[k]])/len(train_data)))\n",
    "            Result_value_all.append(val)\n",
    "            buffer.append(val)\n",
    "        Result_value.append(buffer)\n",
    "        final = list()\n",
    "        final_all = list()\n",
    "    else:\n",
    "        for k in range(cls):\n",
    "            count = 0\n",
    "            count_pls = 0\n",
    "            for loop in range(len(predict)):\n",
    "                if(predict[loop]==k):\n",
    "                    count = count + 1\n",
    "                    if(label[loop]==1):\n",
    "                        count_pls = count_pls + 1\n",
    "            final.append(count_pls)\n",
    "            final_all.append(count)\n",
    "            buffer = list()\n",
    "        for k in range(len(predict)):\n",
    "            val = (float(final[predict[k]])/float(final_all[predict[k]]))*(1-(float(final_all[predict[k]])/len(train_data)))\n",
    "            buffer.append(val)\n",
    "            if(val>Result_value_all[k]):\n",
    "                Result_value_all[k] = val\n",
    "                \n",
    "        Result_value.append(buffer)\n",
    "        final = list()\n",
    "        final_all = list()"
   ]
  },
  {
   "cell_type": "code",
   "execution_count": 34,
   "metadata": {
    "collapsed": true
   },
   "outputs": [],
   "source": [
    "################################################\n",
    "####################  Main  ####################\n",
    "################################################\n",
    "final = list()\n",
    "final_all = list()\n",
    "Result_value_all = list()\n",
    "Result_value = list()\n",
    "train_data = np.asarray(data)\n",
    "ite = 11"
   ]
  },
  {
   "cell_type": "code",
   "execution_count": 35,
   "metadata": {
    "collapsed": true
   },
   "outputs": [],
   "source": [
    "for i in range(2,ite):\n",
    "    kmeans = KMeans(n_clusters=i, max_iter=500 ,random_state=0).fit(train_data)\n",
    "    result = kmeans.labels_\n",
    "    result = result.tolist()\n",
    "    process(result, i)\n",
    "    sort()\n",
    "    \n",
    "with open(\"Result.csv\",\"w\") as test:\n",
    "    for i in range(0,len(Result_value_all)):\n",
    "        if(label[i]==0):\n",
    "            head = \",\".join(novel_header[i])\n",
    "            body = \",\".join(data[i])\n",
    "            buf = str(head)+\",\"+str(body)+\",\"+str(Result_value_all[i])+\"\\n\"\n",
    "            test.write(buf)\n",
    "\n",
    "# with open(\"Result_K.csv\",\"w\") as test:\n",
    "#     buf = \"\"\n",
    "#     for j in range(0,len(Result_value_all)):\n",
    "#         if(label[i]==1):\n",
    "#             for i in range(0,ite-4):\n",
    "#                 buf = buf + str(Result_value[i][j]) + \",\"\n",
    "#             buf = buf + str(Result_value[ite-3][j]) + \"\\n\"\n",
    "#             test.write(buf)\n",
    "#             buf = \"\""
   ]
  },
  {
   "cell_type": "code",
   "execution_count": 45,
   "metadata": {
    "collapsed": true
   },
   "outputs": [],
   "source": [
    "x = database.find(\"select id, chapter from story_longcon_142 order by id limit 100\")"
   ]
  },
  {
   "cell_type": "code",
   "execution_count": 52,
   "metadata": {},
   "outputs": [
    {
     "name": "stdout",
     "output_type": "stream",
     "text": [
      "1550001\n"
     ]
    }
   ],
   "source": [
    "print(x[0][\"id\"])"
   ]
  }
 ],
 "metadata": {
  "anaconda-cloud": {},
  "kernelspec": {
   "display_name": "Python 3",
   "language": "python",
   "name": "python3"
  },
  "language_info": {
   "codemirror_mode": {
    "name": "ipython",
    "version": 3
   },
   "file_extension": ".py",
   "mimetype": "text/x-python",
   "name": "python",
   "nbconvert_exporter": "python",
   "pygments_lexer": "ipython3",
   "version": "3.5.3"
  }
 },
 "nbformat": 4,
 "nbformat_minor": 2
}
