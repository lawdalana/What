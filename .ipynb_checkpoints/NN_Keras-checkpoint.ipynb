{
 "cells": [
  {
   "cell_type": "code",
   "execution_count": 37,
   "metadata": {
    "collapsed": true
   },
   "outputs": [],
   "source": [
    "from keras.models import Sequential\n",
    "from keras.layers import Dense, Activation\n",
    "from keras.utils import np_utils\n",
    "import numpy as np"
   ]
  },
  {
   "cell_type": "code",
   "execution_count": 40,
   "metadata": {},
   "outputs": [
    {
     "name": "stdout",
     "output_type": "stream",
     "text": [
      "<class 'numpy.ndarray'>\n"
     ]
    }
   ],
   "source": [
    "# from keras.datasets import mnist\n",
    "# (X_train, y_train), (X_test, y_test) = mnist.load_data()\n",
    "# X_train = X_train.astype('float32')\n",
    "# X_test = X_test.astype('float32')\n",
    "# X_train /= 255\n",
    "# X_test /= 255\n",
    "# X_train = X_train.reshape(X_train.shape[0], 784)\n",
    "# X_test = X_test.reshape(X_test.shape[0], 784)\n",
    "# print(type(y_test))"
   ]
  },
  {
   "cell_type": "code",
   "execution_count": 5,
   "metadata": {},
   "outputs": [],
   "source": [
    "### import data #####\n",
    "novelid_train = list()\n",
    "label_train = list()\n",
    "data_train = list()\n",
    "with open(\"C:/Data/NN_Train.csv\",\"r+\") as test:\n",
    "    for i in test:\n",
    "        i = i.replace(\"\\n\",\"\")\n",
    "        buf = i.split(\",\")\n",
    "        novelid_train.append(buf[0])\n",
    "        label_train.append(buf[-1])\n",
    "        data_train.append(buf[1:5])\n",
    "\n",
    "novelid_test = list()\n",
    "label_test = list()\n",
    "data_test = list()\n",
    "with open(\"C:/Data/NN_Test.csv\",\"r+\") as test:\n",
    "    for i in test:\n",
    "        i = i.replace(\"\\n\",\"\")\n",
    "        buf = i.split(\",\")\n",
    "        novelid_test.append(buf[0])\n",
    "        label_test.append(buf[-1])\n",
    "        data_test.append(buf[1:5])"
   ]
  },
  {
   "cell_type": "code",
   "execution_count": 41,
   "metadata": {
    "scrolled": true
   },
   "outputs": [],
   "source": [
    "data_train = np.array(data_train)\n",
    "data_train = data_train.reshape(data_train.shape[0], 4)\n",
    "data_test  = np.array(data_test)\n",
    "data_test = data_test.reshape(data_test.shape[0], 4)\n",
    "label_train = np.array(label_train)\n",
    "label_test = np.array(label_test)\n",
    "label_train = np_utils.to_categorical(label_train, 2)\n",
    "label_test = np_utils.to_categorical(label_test, 2)"
   ]
  },
  {
   "cell_type": "code",
   "execution_count": 6,
   "metadata": {},
   "outputs": [
    {
     "data": {
      "text/plain": [
       "'1.1.0'"
      ]
     },
     "execution_count": 6,
     "metadata": {},
     "output_type": "execute_result"
    }
   ],
   "source": [
    "### Layer #####\n",
    "model = Sequential()\n",
    "model.add(Dense(12, input_dim=4, activation='relu'))\n",
    "model.add(Dense(8, activation='relu'))\n",
    "model.add(Dense(1, activation='sigmoid'))\n",
    "model.compile(loss='binary_crossentropy', optimizer='adam', metrics=['accuracy'])"
   ]
  },
  {
   "cell_type": "code",
   "execution_count": null,
   "metadata": {
    "collapsed": true
   },
   "outputs": [],
   "source": [
    "model.fit(X, Y, epochs=300, batch_size=32)"
   ]
  },
  {
   "cell_type": "code",
   "execution_count": null,
   "metadata": {
    "collapsed": true
   },
   "outputs": [],
   "source": [
    "print model.summary()\n",
    "score = model.evaluate(data_test, label_test, verbose=0)\n",
    "print(‘Test score:’, score[0])\n",
    "print(‘Test accuracy:’, score[1])"
   ]
  }
 ],
 "metadata": {
  "kernelspec": {
   "display_name": "Python 3",
   "language": "python",
   "name": "python3"
  },
  "language_info": {
   "codemirror_mode": {
    "name": "ipython",
    "version": 3
   },
   "file_extension": ".py",
   "mimetype": "text/x-python",
   "name": "python",
   "nbconvert_exporter": "python",
   "pygments_lexer": "ipython3",
   "version": "3.5.3"
  }
 },
 "nbformat": 4,
 "nbformat_minor": 2
}
